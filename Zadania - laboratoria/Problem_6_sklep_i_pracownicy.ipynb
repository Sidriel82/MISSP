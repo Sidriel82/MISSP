{
 "cells": [
  {
   "cell_type": "code",
   "execution_count": 11,
   "metadata": {},
   "outputs": [
    {
     "name": "stdout",
     "output_type": "stream",
     "text": [
      "2.3.1\n"
     ]
    }
   ],
   "source": [
    "import pandas as pd\n",
    "import pulp\n",
    "\n",
    "print(pulp.__version__)"
   ]
  },
  {
   "cell_type": "code",
   "execution_count": 12,
   "metadata": {},
   "outputs": [],
   "source": [
    "from pulp import *"
   ]
  },
  {
   "cell_type": "code",
   "execution_count": 2,
   "metadata": {},
   "outputs": [
    {
     "name": "stdout",
     "output_type": "stream",
     "text": [
      "Ania_piatek = 1\n",
      "Hektor_poniedzialek = 1\n",
      "Hektor_sroda = 1\n",
      "Lidia_piatek = 1\n",
      "Olaf_czwartek = 1\n",
      "Olaf_piatek = 1\n",
      "Olaf_wtorek = 1\n",
      "Stefan_poniedzialek = 1\n",
      "Koszty poniesione przez pracodawcę:  4000  zł\n"
     ]
    }
   ],
   "source": [
    "from pulp import *\n",
    "prob = pulp.LpProblem(\"jakie_dni\", LpMinimize)\n",
    "\n",
    "# Stawki poszczególnych pracowników\n",
    "Ania_koszt = 100\n",
    "Stefan_koszt = 50\n",
    "Hektor_koszt = 60\n",
    "Olaf_koszt = 40\n",
    "Lidia_koszt = 110\n",
    "Piotr_koszt = 70\n",
    "\n",
    "# Dni w których pracownicy są dyspozycyjni i mogą przyjść do pracy\n",
    "Ania_pon=pulp.LpVariable(\"Ania_poniedzialek\",0,1, LpInteger)\n",
    "Ania_wt=pulp.LpVariable(\"Ania_wtorek\",0,1, LpInteger)\n",
    "Ania_sr=pulp.LpVariable(\"Ania_sroda\",0,1, LpInteger)\n",
    "Ania_czw=pulp.LpVariable(\"Ania_czwartek\",0,1, LpInteger)\n",
    "Ania_pt=pulp.LpVariable(\"Ania_piatek\",0,1, LpInteger)\n",
    "Stefan_pon=pulp.LpVariable(\"Stefan_poniedzialek\",0,1, LpInteger)\n",
    "Hektor_pon=pulp.LpVariable(\"Hektor_poniedzialek\",0,1, LpInteger)\n",
    "Hektor_wt=pulp.LpVariable(\"Hektor_wtorek\",0,1, LpInteger)\n",
    "Hektor_sr=pulp.LpVariable(\"Hektor_sroda\",0,1, LpInteger)\n",
    "Olaf_pon=pulp.LpVariable(\"Olaf_poniedzialek\",0,1, LpInteger)\n",
    "Olaf_wt=pulp.LpVariable(\"Olaf_wtorek\",0,1, LpInteger)\n",
    "Olaf_sr=pulp.LpVariable(\"Olaf_sroda\",0,1, LpInteger)\n",
    "Olaf_czw=pulp.LpVariable(\"Olaf_czwartek\",0,1, LpInteger)\n",
    "Olaf_pt=pulp.LpVariable(\"Olaf_piatek\",0,1, LpInteger)\n",
    "Lidia_czw=pulp.LpVariable(\"Lidia_czwartek\",0,1, LpInteger)\n",
    "Lidia_pt=pulp.LpVariable(\"Lidia_piatek\",0,1, LpInteger)\n",
    "Piotr_pon=pulp.LpVariable(\"Piotr_poniedzialek\",0,1, LpInteger)\n",
    "Piotr_wt=pulp.LpVariable(\"Piotr_wtorek\",0,1, LpInteger)\n",
    "Piotr_sr=pulp.LpVariable(\"Piotr_sroda\",0,1, LpInteger)\n",
    "\n",
    "# Warunek określajacy mnimalny koszt zatrdunienia \n",
    "prob += (Ania_koszt*(Ania_pon+Ania_wt+Ania_sr+Ania_czw+Ania_pt)+Stefan_koszt*(Stefan_pon)+Hektor_koszt*(Hektor_pon+Hektor_wt+Hektor_sr)+Olaf_koszt*(Olaf_pon+Olaf_wt+Olaf_sr+Olaf_czw+Olaf_pt)+Lidia_koszt*(Lidia_czw+Lidia_pt)+Piotr_koszt*(Piotr_pon+Piotr_wt+Piotr_sr))\n",
    "\n",
    "# Warunek określajacy ilość potrzbnych pracowników w poniedziałek\n",
    "prob += Ania_pon+Stefan_pon+Hektor_pon+Olaf_pon+Piotr_pon == 2\n",
    "# Warunek określający ilość potrzebnych pracowników we wtorek\n",
    "prob += Ania_wt+Ania_wt+Olaf_wt+Piotr_wt == 1\n",
    "# Warunek określajacy ilość potrzbnych pracowników w środę\n",
    "prob += Ania_sr+Hektor_sr+Olaf_sr+Piotr_sr == 1\n",
    "# Warunek określajacy ilość potrzbnych pracowników w czwartek\n",
    "prob += Ania_czw+Olaf_czw+Lidia_czw == 1\n",
    "# Warunek określajacy ilość potrzbnych pracowników w piatek\n",
    "prob += Ania_pt+Olaf_pt+Lidia_pt == 3\n",
    "\n",
    "# Ograniczenie możliwości pracy jednego pracownika przez maksymalnie 3 dni w tygodniu\n",
    "prob += Ania_pon+Ania_wt+Ania_sr+Ania_czw+Ania_pt <=3\n",
    "prob += Stefan_pon <= 3\n",
    "prob += Hektor_pon+Hektor_wt+Hektor_sr <= 3\n",
    "prob += Olaf_pon+Olaf_wt+Olaf_sr+Olaf_czw+Olaf_pt <= 3\n",
    "prob += Lidia_czw+Lidia_pt <= 3\n",
    "prob += Piotr_pon+Piotr_wt+Piotr_sr <= 3\n",
    "\n",
    "prob.solve()\n",
    "for variable in prob.variables():\n",
    "    if(variable.varValue == 1):\n",
    "        print (variable.name, \"=\", variable.varValue)\n",
    "\n",
    "koszt = Ania_koszt*(Ania_pon.value()+Ania_wt.value()+Ania_sr.value()+Ania_czw.value()+Ania_pt.value())+Hektor_koszt*(Hektor_pon.value()+Hektor_wt.value()+Hektor_sr.value())+Lidia_koszt*(Lidia_czw.value()+Lidia_pt.value())+Olaf_koszt*(Olaf_pon.value()+Olaf_wt.value()+Olaf_sr.value()+Olaf_czw.value()+Olaf_pt.value())+Piotr_koszt*(Piotr_pon.value()+Piotr_wt.value()+Piotr_sr.value())+Stefan_koszt*Stefan_pon.value()\n",
    "print(\"Koszty poniesione przez pracodawcę: \",koszt* 8,\" zł\")"
   ]
  },
  {
   "cell_type": "code",
   "execution_count": null,
   "metadata": {},
   "outputs": [],
   "source": []
  }
 ],
 "metadata": {
  "kernelspec": {
   "display_name": "Python 3",
   "language": "python",
   "name": "python3"
  },
  "language_info": {
   "codemirror_mode": {
    "name": "ipython",
    "version": 3
   },
   "file_extension": ".py",
   "mimetype": "text/x-python",
   "name": "python",
   "nbconvert_exporter": "python",
   "pygments_lexer": "ipython3",
   "version": "3.8.3"
  }
 },
 "nbformat": 4,
 "nbformat_minor": 4
}
