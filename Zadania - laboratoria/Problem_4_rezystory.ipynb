{
 "cells": [
  {
   "cell_type": "code",
   "execution_count": 4,
   "metadata": {},
   "outputs": [
    {
     "name": "stdout",
     "output_type": "stream",
     "text": [
      "2.3.1\n"
     ]
    }
   ],
   "source": [
    "import pulp\n",
    "\n",
    "print(pulp.__version__)"
   ]
  },
  {
   "cell_type": "code",
   "execution_count": 6,
   "metadata": {},
   "outputs": [],
   "source": [
    "from pulp import *"
   ]
  },
  {
   "cell_type": "code",
   "execution_count": 2,
   "metadata": {},
   "outputs": [
    {
     "name": "stdout",
     "output_type": "stream",
     "text": [
      "Status: Optimal\n",
      "I1 = 1.54286 A\n",
      "I2 = 2.05714 A\n",
      "I3 = 3.6 A\n",
      "I4 = 1.6 A\n",
      "I5 = 2.0 A\n",
      "Maksymalny prąd jaki może płynąć przez układ =  3.6 A\n"
     ]
    }
   ],
   "source": [
    "prob = LpProblem(\"Problem_rezystory\",LpMaximize)\n",
    "\n",
    "# Zmienne określające wartość prądu płynących przez poszczególne rezystory.\n",
    "I1 = LpVariable(\"I1\",0)\n",
    "I2 = LpVariable(\"I2\",0)\n",
    "I3 = LpVariable(\"I3\",0)\n",
    "I4 = LpVariable(\"I4\",0)\n",
    "I5 = LpVariable(\"I5\",0)\n",
    "\n",
    "# Warunek określajacy maksymalny prąd płynący przez układ\n",
    "prob += I3, \"Max_I_Ukladu\"\n",
    "\n",
    "# ograniczenie prądu na rezystorze 1\n",
    "prob += I1 <= 2, \"I1_max\"\n",
    "# ograniczenie prądu na rezystorze 2\n",
    "prob += I2 <= 3, \"I2_max\"\n",
    "# ograniczenie prądu na rezystorze 3\n",
    "prob += I3 <= 4, \"I3_max\"\n",
    "# ograniczenie prądu na rezystorze 4\n",
    "prob += I4 <= 2, \"I4_max\"\n",
    "# ograniczenie prądu na rezystorze 5\n",
    "prob += I5 <= 2, \"I5_max\"\n",
    "\n",
    "# Ograniczenie prądu wynikające z charakteru jego rozchodzenia się w obwodzie.\n",
    "prob += I1 + I2 == I3, \"I31\"\n",
    "prob += I5 + I4 == I3, \"I32\"\n",
    "\n",
    "# Warunki napięciowe na oczkach obwodu.\n",
    "prob += I1*8 == I2*6, \"Napiecie Pierwsze Oczko\"\n",
    "prob += I5*8 == I4*10, \"Napiecie Drugie Oczko\"\n",
    "\n",
    "prob.writeLP(\"UkladModel.lp\")\n",
    "prob.solve()\n",
    "print (\"Status:\", LpStatus[prob.status])\n",
    "\n",
    "for v in prob.variables():\n",
    "    print (v.name, \"=\", v.varValue, \"A\")\n",
    "\n",
    "print(\"Maksymalny prąd jaki może płynąć przez układ = \", value(prob.objective), \"A\")"
   ]
  },
  {
   "cell_type": "code",
   "execution_count": null,
   "metadata": {},
   "outputs": [],
   "source": []
  }
 ],
 "metadata": {
  "kernelspec": {
   "display_name": "Python 3",
   "language": "python",
   "name": "python3"
  },
  "language_info": {
   "codemirror_mode": {
    "name": "ipython",
    "version": 3
   },
   "file_extension": ".py",
   "mimetype": "text/x-python",
   "name": "python",
   "nbconvert_exporter": "python",
   "pygments_lexer": "ipython3",
   "version": "3.8.3"
  }
 },
 "nbformat": 4,
 "nbformat_minor": 4
}
