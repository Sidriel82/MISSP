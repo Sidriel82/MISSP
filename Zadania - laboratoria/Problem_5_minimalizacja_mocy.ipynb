{
 "cells": [
  {
   "cell_type": "code",
   "execution_count": 2,
   "metadata": {},
   "outputs": [
    {
     "name": "stdout",
     "output_type": "stream",
     "text": [
      "2.3.1\n"
     ]
    }
   ],
   "source": [
    "import pulp\n",
    "\n",
    "print(pulp.__version__)"
   ]
  },
  {
   "cell_type": "code",
   "execution_count": 4,
   "metadata": {},
   "outputs": [],
   "source": [
    "from pulp import *"
   ]
  },
  {
   "cell_type": "code",
   "execution_count": 7,
   "metadata": {},
   "outputs": [
    {
     "name": "stdout",
     "output_type": "stream",
     "text": [
      "Status: Optimal\n",
      "I1 = 3.0 mA\n",
      "I2 = 1.0 mA\n",
      "I3 = 2.0 mA\n",
      "I4 = 1.0 mA\n",
      "I5 = 3.0 mA\n",
      "R1= 2.0 kOhm\n",
      "R2= 10.0 kOhm\n",
      "R3= 2.0 kOhm\n",
      "R4= 7.0 kOhm\n",
      "R5= 1.0 kOhm\n"
     ]
    }
   ],
   "source": [
    "prob = LpProblem(\"Mostek_rezystorowy_minimalizacja_mocy\",LpMinimize)\n",
    "\n",
    "# Zmienne określające wartość prądu płynących przez poszczególne rezystory.\n",
    "I1 = LpVariable(\"I1\",0)\n",
    "I2 = LpVariable(\"I2\",0)\n",
    "I3 = LpVariable(\"I3\",0)\n",
    "I4 = LpVariable(\"I4\",0)\n",
    "I5 = LpVariable(\"I5\",0)\n",
    "\n",
    "# Warunek określajacy mnimalną moc\n",
    "prob += 6*I1 + 10*I2 + 4*I3 + 7*I4 + 3*I5, \"P_min\"\n",
    "\n",
    "# ograniczenie prądu na rezystorze 1\n",
    "prob += I1 >= 3, \"I1_min\"\n",
    "prob += I1 <= 5, \"I1_max\"\n",
    "# ograniczenie prądu na rezystorze 2\n",
    "prob += I2 >= 1, \"I2_min\"\n",
    "prob += I2 <= 3, \"I2_max\"\n",
    "# ograniczenie prądu na rezystorze 3\n",
    "prob += I3 >= 1, \"I3_min\"\n",
    "prob += I3 <= 3, \"I3_max\"\n",
    "# ograniczenie prądu na rezystorze 4\n",
    "prob += I4 >= 1, \"I4_min\"\n",
    "prob += I4 <= 3, \"I4_max\"\n",
    "# ograniczenie prądu na rezystorze 5\n",
    "prob += I5 >= 3, \"I5_min\"\n",
    "prob += I5 <= 5, \"I5_max\"\n",
    "\n",
    "# Ograniczenie prądu wynikające z charakteru jego rozchodzenia się w obwodzie.\n",
    "prob += I2 + I3 == I5, \"war_sum 1\"\n",
    "prob += I1 + I2 == I4 + I5, \"war_sum 2\"\n",
    "\n",
    "prob.writeLP(\"MostekModel.lp\")\n",
    "\n",
    "prob.solve()\n",
    "\n",
    "print (\"Status:\", LpStatus[prob.status])\n",
    "\n",
    "for v in prob.variables():\n",
    "    print (v.name, \"=\", v.varValue, \"mA\")\n",
    "\n",
    "print(\"R1=\", 6/I1.varValue,\"kOhm\")\n",
    "print(\"R2=\", 10/I2.varValue,\"kOhm\")\n",
    "print(\"R3=\", 4/I3.varValue,\"kOhm\")\n",
    "print(\"R4=\", 7/I4.varValue,\"kOhm\")\n",
    "print(\"R5=\", 3/I5.varValue,\"kOhm\")"
   ]
  },
  {
   "cell_type": "code",
   "execution_count": null,
   "metadata": {},
   "outputs": [],
   "source": []
  }
 ],
 "metadata": {
  "kernelspec": {
   "display_name": "Python 3",
   "language": "python",
   "name": "python3"
  },
  "language_info": {
   "codemirror_mode": {
    "name": "ipython",
    "version": 3
   },
   "file_extension": ".py",
   "mimetype": "text/x-python",
   "name": "python",
   "nbconvert_exporter": "python",
   "pygments_lexer": "ipython3",
   "version": "3.8.3"
  }
 },
 "nbformat": 4,
 "nbformat_minor": 4
}
