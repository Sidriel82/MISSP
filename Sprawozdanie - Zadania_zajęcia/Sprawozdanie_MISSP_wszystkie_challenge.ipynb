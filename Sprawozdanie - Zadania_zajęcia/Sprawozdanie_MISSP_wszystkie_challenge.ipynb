{
 "cells": [
  {
   "cell_type": "markdown",
   "metadata": {},
   "source": [
    "<strong> Challenge 0.1 </strong>"
   ]
  },
  {
   "cell_type": "markdown",
   "metadata": {},
   "source": [
    "cz.1 - wyprintuj zajecia od srody do piatku\n",
    "<p>cz.2 - wyprintuj oprocz srody</p>"
   ]
  },
  {
   "cell_type": "code",
   "execution_count": 3,
   "metadata": {},
   "outputs": [
    {
     "name": "stdout",
     "output_type": "stream",
     "text": [
      "zajecia od srody do piatku: ['relax', 'mispy', 'piateczek']\n",
      "----------------------------------------\n",
      "Dzien tygodnia: Pon Zajecie: wf\n",
      "Dzien tygodnia: Wto Zajecie: informatyka\n",
      "Dzien tygodnia: Czwar Zajecie: mispy\n",
      "Dzien tygodnia: Pio Zajecie: piateczek\n"
     ]
    }
   ],
   "source": [
    "zajecia = [\"wf\",\"informatyka\",\"relax\",\"mispy\",\"piateczek\"]\n",
    "\n",
    "dnityg= [\"Pon\",\"Wto\",\"Sro\",\"Czwar\",\"Pio\"]\n",
    "      \n",
    "# cz.1 - wyprintuj zajecia od srody do piatku\n",
    "print(\"zajecia od srody do piatku:\",zajecia[2:])\n",
    "print(\"--\"*20)\n",
    "# cz.2 - wyprintuj oprocz srody\n",
    "# Zastosowałem pętle for dla dwóch list zajecia i dnityg z warunkiem dni != Sro. \n",
    "# Pozwoliło to wypisać zajęcia z wszystkich dni oprócz środy, która nie spełniała warunku if.\n",
    "for zaj, dni, in zip(zajecia,dnityg):\n",
    "    if dni != \"Sro\":\n",
    "        print(\"Dzien tygodnia: {} Zajecie: {}\".format(dni,zaj))"
   ]
  },
  {
   "cell_type": "markdown",
   "metadata": {},
   "source": [
    "<strong>Challenge 0.2</strong>"
   ]
  },
  {
   "cell_type": "markdown",
   "metadata": {},
   "source": [
    "cz.1 - zdefiniuj funkcje ktora poda ile jest zajec danego dnia\n",
    "<p>cz.2 - lista_zajec_z_dnia -> ile ich jest</p>\n",
    "<p>cz.3 - posortuj dni po najbardziej zajetych</p>"
   ]
  },
  {
   "cell_type": "code",
   "execution_count": 6,
   "metadata": {},
   "outputs": [
    {
     "name": "stdout",
     "output_type": "stream",
     "text": [
      "Dzien tygodnia: Pon Zajecie: ['wf'] Ile zajecie: 1\n",
      "Dzien tygodnia: Wto Zajecie: ['informatyka', 'nauka czytania'] Ile zajecie: 2\n",
      "Dzien tygodnia: Sro Zajecie: ['relax', 'jedzenie'] Ile zajecie: 2\n",
      "Dzien tygodnia: Czwar Zajecie: ['mispy', 'mispy w domu'] Ile zajecie: 2\n",
      "Dzien tygodnia: Pio Zajecie: ['piateczek', 'praca domowa z mispow', 'Ilovemispy', 'mispy w czasie snu'] Ile zajecie: 4\n",
      "----------------------------------------\n",
      "Rosnąco\n",
      "[('Pon', ['wf']), ('Wto', ['informatyka', 'nauka czytania']), ('Sro', ['relax', 'jedzenie']), ('Czwar', ['mispy', 'mispy w domu']), ('Pio', ['piateczek', 'praca domowa z mispow', 'Ilovemispy', 'mispy w czasie snu'])]\n",
      "----------------------------------------\n",
      "Malejaco\n",
      "[('Pio', ['piateczek', 'praca domowa z mispow', 'Ilovemispy', 'mispy w czasie snu']), ('Wto', ['informatyka', 'nauka czytania']), ('Sro', ['relax', 'jedzenie']), ('Czwar', ['mispy', 'mispy w domu']), ('Pon', ['wf'])]\n",
      "----------------------------------------\n"
     ]
    }
   ],
   "source": [
    "zajecia = [[\"wf\"],\n",
    "           [\"informatyka\", \"nauka czytania\"],\n",
    "           [\"relax\", \"jedzenie\"],\n",
    "           [\"mispy\",\"mispy w domu\"],\n",
    "           [\"piateczek\", \"praca domowa z mispow\", \"Ilovemispy\", \"mispy w czasie snu\"]\n",
    "          ]\n",
    "\n",
    "dnityg= [\"Pon\",\"Wto\",\"Sro\",\"Czwar\",\"Pio\"]\n",
    "\n",
    "# cz.1 - zdefiniuj funkcje ktora poda ile jest zajec danego dnia\n",
    "# funckja zwracająca ilość zajęć w dannym dniu\n",
    "def ile_zajec_w_dniu(ile_zajec):\n",
    "    return len(ile_zajec)\n",
    "\n",
    "\n",
    "# cz.2 - lista_zajec_z_dnia -> ile ich jest\n",
    "# Wypisanie nazwy dni oraz ilość przedmiotów przy pomocy pętli for dla \n",
    "# dwóch połączonych tabel zajecia i dnityg\n",
    "for dni,zaj, in zip(dnityg, zajecia):\n",
    "    print(\"Dzien tygodnia: {} Zajecie: {} Ile zajecie: {}\".format(dni,zaj,ile_zajec_w_dniu(zaj)))\n",
    "print(\"--\"*20)        \n",
    "\n",
    "# cz.3 - posortuj dni po najbardziej zajętych\n",
    "# Wykorzystałem funkcję \"sorted\" oraz \"key\". Funkcja \"key = lista sort:ile_zajec_w_dniu(lista[1])\"\n",
    "# zwraca informację o ilości zająć w danym dniu a funkcja \"sorted\" wykozrstująca listę stworzoną przy pomocy funkcji\n",
    "# \"list\" oraz \"zip\" układa połączone elementy listy w odpowiedniej kolejności zależnie od ilości zajęć w danym dniu.\n",
    "lista = list(zip(dnityg,zajecia))\n",
    "# Przypadek pierwszy sortowanie rosjące \n",
    "print(\"Rosnąco\")\n",
    "lsita1 = sorted(lista, key = lambda lista:ile_zajec_w_dniu(lista[1]))\n",
    "print(lsita1)\n",
    "print(\"--\"*20) \n",
    "\n",
    "# Przypadek pierwszy sortowanie malejąco. Do uzyskania tego efekty użyłem parametru \n",
    "# \"reverse = True\" który odwraca kolejności listy\n",
    "print(\"Malejaco\")\n",
    "lista2 = sorted(lista, key = lambda lista:ile_zajec_w_dniu(lista[1]), reverse = True)\n",
    "print(lista2)\n",
    "print(\"--\"*20) "
   ]
  },
  {
   "cell_type": "markdown",
   "metadata": {},
   "source": [
    "<strong>Challenge 0.3</strong>"
   ]
  },
  {
   "cell_type": "markdown",
   "metadata": {},
   "source": [
    "cz.1 napisz program ktory zdajdzie dzien z najwieksza iloscia mispow"
   ]
  },
  {
   "cell_type": "code",
   "execution_count": 7,
   "metadata": {},
   "outputs": [
    {
     "name": "stdout",
     "output_type": "stream",
     "text": [
      "Dzien z najwieksza iloscia mispow: ('Pio', ['piateczek', 'praca domowa z mispow', 'Ilovemispy', 'mispy w czasie snu'])\n"
     ]
    }
   ],
   "source": [
    "# funkcja do której jako argument przyjmuje \"text\" w tym przypadku listę zajęć. Wykorzystując funkcję \"find\" w pętli for \n",
    "# sprawdzam czy w kolejnych elementach znajduje się fraza \"misp\". W przypadku znalezienia frazy, zmienna \"licznik\" \n",
    "# jest inkrementowana o jeden.\n",
    "def liczba_mispow(text):\n",
    "    licznik = 0\n",
    "    for misp in text:\n",
    "        if misp.find(\"misp\")==-1:\n",
    "            continue\n",
    "        licznik = licznik + 1\n",
    "    return licznik\n",
    "\n",
    "# w celu znalezienia dnia w którym występuje najwięcej fraz \"misp\" wykorzystałem funkcję \"sorted\" z ustawionym parametrem \n",
    "# \"reverse = True\" aby dzień z największą ilością słów \"misp\" był na pierwszym miejscy listy\n",
    "# Wykorzystałem również funkcję \"key\" w której użyłem funkcji do zliczania słów którą napisałem wcześniej.\n",
    "# W celu wypisania dnia z największą ilością słów \"misp\" odwołałem się do pierwszego elementu listy \"wynik\".\n",
    "wynik = sorted(lista, key = lambda lista:liczba_mispow(lista[1]), reverse = True)\n",
    "print(\"Dzien z najwieksza iloscia mispow:\", wynik[0])\n"
   ]
  },
  {
   "cell_type": "markdown",
   "metadata": {},
   "source": [
    "<strong>Challenge 1 - Numer telefonu</strong>."
   ]
  },
  {
   "cell_type": "markdown",
   "metadata": {},
   "source": [
    "cz.1 - przy tworzeniu sprawdza czy właściwy numer (Polski) jeśli nie pisze, że error (ew. Exception)\n",
    "\n",
    "cz.2 - gdy wywołuję właściwość wojewodzwtwo, podaje mi wojewodztwo ew. ze to komorko\n",
    "\n",
    "cz.3 - gdy printuję to pisze polskimi słowami i.e. \"jeden, pięć, siedem, zero\""
   ]
  },
  {
   "cell_type": "code",
   "execution_count": 5,
   "metadata": {},
   "outputs": [
    {
     "name": "stdout",
     "output_type": "stream",
     "text": [
      "Prawidlowy numer\n",
      "Województwo: Łódzkie\n",
      "cztery, dwa, sześć, osiem, siedem, siedem, osiem, sześć, osiem\n"
     ]
    }
   ],
   "source": [
    "class NumerTelefonu():\n",
    "# Funkcja ta sprawdza czy wprowadzony numer jest poprawny tj. czy zwiera 9 znaków, a następnie \n",
    "# zwraca informacje czy numer jest poprawny czy błędny.\n",
    "    def __init__(self, numer_tel):\n",
    "            if len(numer_tel) == 9:\n",
    "                self.nr_tel = numer_tel\n",
    "                print(\"Prawidlowy numer\")\n",
    "            else:\n",
    "                print(\"Nieprawidlowy numer\")\n",
    "    @property\n",
    "# Funkcja ta sprawdza dwa pierwsze znak wprowadzonego numeru i porównuje je z numerami kierunkowymi poszczególnych województw.\n",
    "# Jeżeli żadena para nie będzie pasowała to numer jest uznawany za numer komórkowy.\n",
    "    def wojewodztwo(self):\n",
    "        if self.nr_tel[0] == \"7\" and self.nr_tel[1] == \"1\" or self.nr_tel[0] == \"7\" and self.nr_tel[1] == \"4\" or self.nr_tel[0] == \"7\" and self.nr_tel[1] == \"5\":\n",
    "            print(\"Województwo: Dolnośląskie\")\n",
    "        elif self.nr_tel[0] == \"5\" and self.nr_tel[1] == \"2\" or self.nr_tel[0] == \"5\" and self.nr_tel[1] == \"4\" or self.nr_tel[0] == \"5\" and self.nr_tel[1] == \"6\":\n",
    "            print(\"Województwo: Kujawsko-pomorskie\")\n",
    "        elif self.nr_tel[0] == \"6\" and self.nr_tel[1] == \"8\" or self.nr_tel[0] == \"8\" and self.nr_tel[1] == \"1\" or self.nr_tel[0] == \"8\" and self.nr_tel[1] == \"2\" or self.nr_tel[0] == \"8\" and self.nr_tel[1] == \"3\" or self.nr_tel[0] == \"8\" and self.nr_tel[1] == \"4\" or self.nr_tel[0] == \"9\" and self.nr_tel[1] == \"5\":\n",
    "            print(\"Województwo: Lubelskie\")\n",
    "        elif self.nr_tel[0] == \"4\" and self.nr_tel[1] == \"2\" or self.nr_tel[0] == \"4\" and self.nr_tel[1] == \"3\" or self.nr_tel[0] == \"4\" and self.nr_tel[1] == \"4\" or self.nr_tel[0] == \"4\" and self.nr_tel[1] == \"6\":\n",
    "            print(\"Województwo: Łódzkie\")\n",
    "        elif self.nr_tel[0] == \"1\" and self.nr_tel[1] == \"2\" or self.nr_tel[0] == \"1\" and self.nr_tel[1] == \"4\" or self.nr_tel[0] == \"1\" and self.nr_tel[1] == \"8\":\n",
    "            print(\"Województwo: Małopolskie\")\n",
    "        elif self.nr_tel[0] == \"2\" and self.nr_tel[1] == \"2\" or self.nr_tel[0] == \"2\" and self.nr_tel[1] == \"3\" or self.nr_tel[0] == \"2\" and self.nr_tel[1] == \"4\" or self.nr_tel[0] == \"2\" and self.nr_tel[1] == \"2\" or self.nr_tel[0] == \"2\" and self.nr_tel[1] == \"9\" or self.nr_tel[0] == \"4\" and self.nr_tel[1] == \"8\":\n",
    "            print(\"Województwo: Mazowieckie\")\n",
    "        elif self.nr_tel[0] == \"7\" and self.nr_tel[1] == \"7\":\n",
    "            print(\"Województwo: Opolskie\")\n",
    "        elif self.nr_tel[0] == \"1\" and self.nr_tel[1] == \"3\" or self.nr_tel[0] == \"1\" and self.nr_tel[1] == \"5\" or self.nr_tel[0] == \"1\" and self.nr_tel[1] == \"6\" or self.nr_tel[0] == \"1\" and self.nr_tel[1] == \"7\":\n",
    "            print(\"Województwo: Podkarpackie\")\n",
    "        elif self.nr_tel[0] == \"8\" and self.nr_tel[1] == \"5\" or self.nr_tel[0] == \"8\" and self.nr_tel[1] == \"6\" or self.nr_tel[0] == \"8\" and self.nr_tel[1] == \"7\":\n",
    "            print(\"Województwo: Podlaskie\")  \n",
    "        elif self.nr_tel[0] == \"5\" and self.nr_tel[1] == \"8\" or self.nr_tel[0] == \"5\" and self.nr_tel[1] == \"9\":\n",
    "            print(\"Województwo: Pomorskie\")\n",
    "        elif self.nr_tel[0] == \"3\" and self.nr_tel[1] == \"2\" or self.nr_tel[0] == \"3\" and self.nr_tel[1] == \"3\" or self.nr_tel[0] == \"3\" and self.nr_tel[1] == \"4\":\n",
    "            print(\"Województwo: Śląskie\")\n",
    "        elif self.nr_tel[0] == \"4\" and self.nr_tel[1] == \"1\":\n",
    "            print(\"Województwo: Świętokrzyskie\")\n",
    "        elif self.nr_tel[0] == \"5\" and self.nr_tel[1] == \"5\" or self.nr_tel[0] == \"8\" and self.nr_tel[1] == \"9\":\n",
    "            print(\"Województwo: Warmińsko-mazurskie\")\n",
    "        elif self.nr_tel[0] == \"6\" and self.nr_tel[1] == \"1\" or self.nr_tel[0] == \"6\" and self.nr_tel[1] == \"2\" or self.nr_tel[0] == \"6\" and self.nr_tel[1] == \"3\" or self.nr_tel[0] == \"6\" and self.nr_tel[1] == \"5\" or self.nr_tel[0] == \"6\" and self.nr_tel[1] == \"7\":\n",
    "            print(\"Województwo: Wielkopolskie\")\n",
    "        elif self.nr_tel[0] == \"9\" and self.nr_tel[1] == \"1\" or self.nr_tel[0] == \"9\" and self.nr_tel[1] == \"4\":\n",
    "            print(\"Województwo: Zachodnio-pomorskie\")\n",
    "        else:\n",
    "            print(\"Nr_komorkowy\")\n",
    "# Funkcja ta zamienia podany numer na zapis słowny, wykorzystuje do tego dwie tablice\n",
    "# pierwsza tablica ze wzorcowymi słowami odpowiadającymi cyfrom użytym do zapisu numeru\n",
    "# oraz drugą tablice do której są zapisywane wybrane słowa odpowiadające liczbom z numeru.\n",
    "    def __repr__(self):\n",
    "        cyfry = [\"zero\",\"jeden\",\"dwa\",\"trzy\",\"cztery\",\"pięć\",\"sześć\",\"siedem\",\"osiem\",\"dziewięć\"]\n",
    "        numer = []\n",
    "        for cyfra in self.nr_tel:\n",
    "            numer.append(cyfry[int(cyfra)])\n",
    "        numer = ', '.join([str(cyfra) for cyfra in numer])\n",
    "        return numer\n",
    "\n",
    "numer_lodz = NumerTelefonu(\"426877868\")\n",
    "numer_lodz.wojewodztwo\n",
    "print(numer_lodz)"
   ]
  },
  {
   "cell_type": "markdown",
   "metadata": {},
   "source": [
    "<strong> Challenge -  The Whiskas Problem</strong>"
   ]
  },
  {
   "cell_type": "markdown",
   "metadata": {},
   "source": [
    "1 - przeczytaj materiały dotyczące pulp ze strony internetowej https://coin-or.github.io/pulp/main/index.html oraz przejdź przez blending problem (przepisz do swojego notebooka)\n",
    "\n",
    "2 - w blending problem dodaj zmienną decyzyjną. Stwórz zmienną która pojawi się w końcowym składzie produktu (tj. wartość zmiennej będzie miała niezerową postać)\n",
    "\n",
    "3 - Dodaj ograniczenie co do zawartości witaminy B\n",
    "\n",
    "   Kot ma zjeść minimum 0.24 ug na kilogram masy więc około 0.8 ug dziennie"
   ]
  },
  {
   "cell_type": "code",
   "execution_count": null,
   "metadata": {},
   "outputs": [],
   "source": [
    "Stworzoną przeze mnie dodatkową zmienną jest \"SALMON\" zawartość jej składników odżywczych jest tak dobrana aby jej \n",
    "wartość po rozwiązaniu problemu nie była równa 0."
   ]
  },
  {
   "cell_type": "code",
   "execution_count": 91,
   "metadata": {},
   "outputs": [
    {
     "name": "stdout",
     "output_type": "stream",
     "text": [
      "Status: Optimal\n",
      "Ingr_BEEF = 27.0893 %\n",
      "Ingr_CHICKEN = 21.3256 %\n",
      "Ingr_GEL = 19.8847 %\n",
      "Ingr_MUTTON = 0.0 %\n",
      "Ingr_RICE = 0.0 %\n",
      "Ingr_SALMON = 31.7003 %\n",
      "Ingr_SARDINES = 0.0 %\n",
      "Ingr_WHEAT = 0.0 %\n",
      "Total Cost of Ingredients per can =  0.7040337\n"
     ]
    }
   ],
   "source": [
    "from pulp import *\n",
    "# Creates a list of the Ingredients\n",
    "Ingredients = ['CHICKEN', 'BEEF', 'MUTTON', 'RICE', 'WHEAT', 'GEL', 'SARDINES', 'SALMON']\n",
    "\n",
    "# A dictionary of the costs of each of the Ingredients is created\n",
    "costs = {'CHICKEN': 0.013, \n",
    "         'BEEF': 0.008, \n",
    "         'MUTTON': 0.010, \n",
    "         'RICE': 0.002, \n",
    "         'WHEAT': 0.005, \n",
    "         'GEL': 0.001,\n",
    "         'SARDINES': 0.009,\n",
    "         'SALMON':0.006}\n",
    "\n",
    "# A dictionary of the protein percent in each of the Ingredients is created\n",
    "proteinPercent = {'CHICKEN': 0.100, \n",
    "                  'BEEF': 0.200, \n",
    "                  'MUTTON': 0.150, \n",
    "                  'RICE': 0.000, \n",
    "                  'WHEAT': 0.040, \n",
    "                  'GEL': 0.000,\n",
    "                  'SARDINES':0.120,\n",
    "                  'SALMON':0.070}\n",
    "\n",
    "# A dictionary of the fat percent in each of the Ingredients is created\n",
    "fatPercent = {'CHICKEN': 0.080, \n",
    "              'BEEF': 0.100, \n",
    "              'MUTTON': 0.110, \n",
    "              'RICE': 0.010, \n",
    "              'WHEAT': 0.010, \n",
    "              'GEL': 0.000,\n",
    "              'SARDINES': 0.090,\n",
    "              'SALMON':0.050}\n",
    "\n",
    "# A dictionary of the fibre percent in each of the Ingredients is created\n",
    "fibrePercent = {'CHICKEN': 0.001, \n",
    "                'BEEF': 0.005, \n",
    "                'MUTTON': 0.003, \n",
    "                'RICE': 0.100, \n",
    "                'WHEAT': 0.150, \n",
    "                'GEL': 0.000,\n",
    "                'SARDINES': 0.004,\n",
    "                'SALMON':0.002}\n",
    "\n",
    "# A dictionary of the salt percent in each of the Ingredients is created\n",
    "saltPercent = {'CHICKEN': 0.002, \n",
    "               'BEEF': 0.005, \n",
    "               'MUTTON': 0.007, \n",
    "               'RICE': 0.002, \n",
    "               'WHEAT': 0.008, \n",
    "               'GEL': 0.000,\n",
    "               'SARDINES': 0.001,\n",
    "               'SALMON': 0.007}\n",
    "\n",
    "# A dictionary of the B vitamin ug in 100 g (0.01ug/g)\n",
    "Bvitamin = {'CHICKEN': 0.003, \n",
    "            'BEEF': 0.026, \n",
    "            'MUTTON': 0.026, \n",
    "            'RICE': 0.000, \n",
    "            'WHEAT': 0.000, \n",
    "            'GEL': 0.000,\n",
    "            'SARDINES': 0.089,\n",
    "            'SALMON': 0.001}\n",
    "\n",
    "\n",
    "# Create the 'prob' variable to contain the problem data\n",
    "prob = LpProblem(\"The Whiskas Problem\", LpMinimize)\n",
    "\n",
    "\n",
    "# A dictionary called 'ingredient_vars' is created to contain the referenced Variables\n",
    "ingredient_vars = LpVariable.dicts(\"Ingr\",Ingredients,0)\n",
    "\n",
    "# The objective function is added to 'prob' first\n",
    "prob += lpSum([costs[i]*ingredient_vars[i] for i in Ingredients]), \"Total Cost of Ingredients per can\"\n",
    "\n",
    "\n",
    "# The five constraints are added to 'prob'\n",
    "prob += lpSum([ingredient_vars[i] for i in Ingredients]) == 100, \"PercentagesSum\"\n",
    "prob += lpSum([proteinPercent[i] * ingredient_vars[i] for i in Ingredients]) >= 8.0, \"ProteinRequirement\"\n",
    "prob += lpSum([fatPercent[i] * ingredient_vars[i] for i in Ingredients]) >= 6.0, \"FatRequirement\"\n",
    "prob += lpSum([fibrePercent[i] * ingredient_vars[i] for i in Ingredients]) <= 2.0, \"FibreRequirement\"\n",
    "prob += lpSum([saltPercent[i] * ingredient_vars[i] for i in Ingredients]) <= 0.4, \"SaltRequirement\"\n",
    "prob += lpSum([Bvitamin[i] * ingredient_vars[i] for i in Ingredients]) <= 0.8, \"BVitaminRequirement\" \n",
    "\n",
    "prob.writeLP(\"WhiskasModel2.lp\")\n",
    "\n",
    "prob.solve()\n",
    "\n",
    "# The status of the solution is printed on the screen\n",
    "print(\"Status:\", LpStatus[prob.status])\n",
    "\n",
    "for v in prob.variables():\n",
    "    print(v.name, \"=\", v.varValue,\"%\")\n",
    "\n",
    "# The optimised objective function value is printed to the screen\n",
    "print(\"Total Cost of Ingredients per can = \", value(prob.objective))"
   ]
  },
  {
   "cell_type": "markdown",
   "metadata": {},
   "source": [
    "<strong> Challenge  Programowanie Liniowe i algorytm simplex</strong>"
   ]
  },
  {
   "cell_type": "markdown",
   "metadata": {},
   "source": [
    "Celem zadania jest zmaksymalizowanie zysku ze sprzedaży okien drewnianych i aluminiowych. Produkcja odbywa się w trzech fabrykach, każda z fabryk może produkować różne ilości obu okien w zależności od jej możliwości, określonej przez czas jaki potrzebuje na zrobienie jednego okna oraz ile czasu w ciągu tygodnia może na to poświęcić.\n",
    "Zadanie zostało zrealizowane w dwóch wariantach:\n",
    "    - ceny partii okien oraz możliwości przerobowe fabryk są ustalone na\n",
    "      początku i są stałe \n",
    "    - ceny partii okien oraz możliwości przerobowe fabryk są ustalana przy\n",
    "      pomocy suwaków"
   ]
  },
  {
   "cell_type": "markdown",
   "metadata": {},
   "source": [
    "Wariant pierwszy"
   ]
  },
  {
   "cell_type": "code",
   "execution_count": 95,
   "metadata": {},
   "outputs": [
    {
     "name": "stdout",
     "output_type": "stream",
     "text": [
      "Status: Optimal\n",
      "Partie_okien_aluminiowych = 2\n",
      "Partie_okien_drewnianych = 6\n",
      "Maks. zysk =  36000.0\n"
     ]
    }
   ],
   "source": [
    "from pulp import*\n",
    "prob = LpProblem(\"Prod_okien\",LpMaximize)\n",
    "\n",
    "# Zmienna \"x1\" określajaca ilość parti okien aluminiowych\n",
    "x1 = LpVariable(\"Partie okien aluminiowych\",0,None, LpInteger)\n",
    "# Zmienna \"x2\" określajaca ilość parti okien drewnianych\n",
    "x2 = LpVariable(\"Partie okien drewnianych\",0,None, LpInteger)\n",
    "\n",
    "# Maksymalny zysk jaki możemy uzyskać przy dobrym wykrozsytaniu każdej z fabryk\n",
    "prob += 3.0*x1 + 5.0*x2, \"Zysk maksymalny\"\n",
    "# Limit określajacy ile pierwsza fabryka może wytworzyć partii okien aluminiowych w ciągu jednego tygodnia\n",
    "prob += 1.0*x1 <= 4.0, \"Praca fabryki 1\"\n",
    "# Limit określajacy ile druga fabryka może wytworzyć partii okien drewnianych w ciągu jednego tygodnia\n",
    "prob += 2.0*x2 <= 12.0, \"Praca fabryki 2\"\n",
    "# Limit określajacy ile trzecia fabryka może wytworzyć partii okien aluminiowych i drewnianych w ciągu jednego tygodnia\n",
    "prob += 3.0*x1 + 2.0*x2 <= 18.0, \"Praca fabryki 3\"\n",
    "\n",
    "prob.writeLP(\"Prod_okien\")\n",
    "\n",
    "prob.solve()\n",
    "\n",
    "print(\"Status:\", LpStatus[prob.status])\n",
    "\n",
    "for v in prob.variables():\n",
    "    print(v.name, \"=\", v.varValue)\n",
    "\n",
    "print(\"Maks. zysk = \", value(prob.objective)*1000)"
   ]
  },
  {
   "cell_type": "markdown",
   "metadata": {},
   "source": [
    "Wariant drugi"
   ]
  },
  {
   "cell_type": "code",
   "execution_count": 103,
   "metadata": {},
   "outputs": [
    {
     "data": {
      "application/vnd.jupyter.widget-view+json": {
       "model_id": "5055e94c58064fc1982f346bd023fdb0",
       "version_major": 2,
       "version_minor": 0
      },
      "text/plain": [
       "interactive(children=(FloatSlider(value=3000.0, description='cena_aluminiowych_slider', max=100000.0, style=Sl…"
      ]
     },
     "metadata": {},
     "output_type": "display_data"
    },
    {
     "data": {
      "text/plain": [
       "<function __main__.dane(cena_aluminiowych=3000, cena_drewnianych=5000, fab1_czas_alu=1, fab1_czas_dre=0, fab1_czas_tydz=4, fab2_czas_alu=0, fab2_czas_dre=2, fab2_czas_tydz=12, fab3_czas_alu=3, fab3_czas_dre=2, fab3_czas_tydz=12)>"
      ]
     },
     "execution_count": 103,
     "metadata": {},
     "output_type": "execute_result"
    }
   ],
   "source": [
    "from __future__ import print_function\n",
    "from ipywidgets import interact, interactive, fixed, interact_manual, Layout, FloatSlider, IntSlider\n",
    "import ipywidgets as widgets\n",
    "import pandas as pd\n",
    "\n",
    "style = {'description_width': 'initial'}\n",
    "\n",
    "cena_aluminiowych_slider = FloatSlider(min = 0, max = 100000, value = 3000, description=\"cena_aluminiowych_slider\", style = style)\n",
    "cena_drewnianych_slider = FloatSlider(min = 0, max = 100000, value = 5000, description=\"cena_aluminiowych_slider\", style = style)\n",
    "fab1_czas_alu_slider = FloatSlider(min = 0, max = 10, value = 1, description=\"fab1_czas_alu_slider\", style = style)\n",
    "fab1_czas_dre_slider = FloatSlider(min = 0, max = 10, value = 0, description=\"fab1_czas_dre_slider\", style = style)\n",
    "fab1_czas_tydz_slider = FloatSlider(min = 0, max = 48, value = 4, description=\"fab1_czas_tydz_slider\", style = style)\n",
    "fab2_czas_alu_slider = FloatSlider(min = 0, max = 10, value = 0, description=\"fab2_czas_alu_slider\", style = style)\n",
    "fab2_czas_dre_slider = FloatSlider(min = 0, max = 10, value = 2, description=\"fab2_czas_dre_slider\", style = style)\n",
    "fab2_czas_tydz_slider = FloatSlider(min = 0, max = 48, value = 12, description=\"fab2_czas_slider\", style = style)\n",
    "fab3_czas_alu_slider = FloatSlider(min = 0, max = 10, value = 3, description=\"fab3_czas_alu_slider\", style = style)\n",
    "fab3_czas_dre_slider = FloatSlider(min = 0, max = 10, value = 2, description=\"fab3_czas_dre_slider\", style = style)\n",
    "fab3_czas_tydz_slider = FloatSlider(min = 0, max = 48, value = 18, description=\"fab3_czas_tydz_slider\", style = style)\n",
    "\n",
    "def dane(cena_aluminiowych = 3000,\n",
    "    cena_drewnianych = 5000,\n",
    "    fab1_czas_alu = 1,\n",
    "    fab1_czas_dre = 0,\n",
    "    fab1_czas_tydz = 4,\n",
    "    fab2_czas_alu = 0,\n",
    "    fab2_czas_dre = 2,\n",
    "    fab2_czas_tydz = 12,\n",
    "    fab3_czas_alu = 3,\n",
    "    fab3_czas_dre = 2,\n",
    "    fab3_czas_tydz = 12):\n",
    "\n",
    "    prob = LpProblem(\"Okna_warianty\",LpMaximize)\n",
    "\n",
    "    x1 = LpVariable(\"Partie okien aluminiowych\",0)\n",
    "    x2 = LpVariable(\"Partie okien drewnianych\",0)\n",
    "\n",
    "    prob += cena_aluminiowych*x1 + cena_drewnianych*x2, \"Maksymalny zysk\"\n",
    "    prob += fab1_czas_alu*x1 + fab1_czas_dre*x2 <= fab1_czas_tydz, \"Fabryka 1\"\n",
    "    prob += fab2_czas_alu*x1 + fab2_czas_dre*x2 <= fab2_czas_tydz, \"Fabryka 2\"\n",
    "    prob += fab3_czas_alu*x1 + fab3_czas_dre*x2 <= fab3_czas_tydz, \"Fabryka 3\"\n",
    "\n",
    "    prob.writeLP(\"Okna_zyski\")\n",
    "\n",
    "    prob.solve()\n",
    "\n",
    "    print(\"Status:\", LpStatus[prob.status])\n",
    "\n",
    "    for v in prob.variables():\n",
    "        print(v.name, \"=\", v.varValue)\n",
    "\n",
    "    print(\"Maksymalny zysk = \", value(prob.objective))\n",
    "\n",
    "    shadows = [{'Name':name, 'Shadow price': c.pi, \"Slack\": c.slack} for name, c in prob.constraints.items()]\n",
    "    print(\" \"*10+\"Shadow Prices\"+\" \"*10)\n",
    "    print(pd.DataFrame(shadows))\n",
    "\n",
    "interact(\n",
    "    dane,\n",
    "    cena_aluminiowych = cena_aluminiowych_slider,\n",
    "    cena_drewnianych = cena_drewnianych_slider,\n",
    "    fab1_czas_alu = fab1_czas_alu_slider,\n",
    "    fab1_czas_dre = fab1_czas_dre_slider,\n",
    "    fab1_czas_tydz = fab1_czas_tydz_slider,\n",
    "    fab2_czas_alu = fab2_czas_alu_slider,\n",
    "    fab2_czas_dre = fab2_czas_dre_slider,\n",
    "    fab2_czas_tydz = fab2_czas_tydz_slider,\n",
    "    fab3_czas_alu = fab3_czas_alu_slider,\n",
    "    fab3_czas_dre = fab3_czas_dre_slider,\n",
    "    fab3_czas_tydz = fab3_czas_tydz_slider)"
   ]
  },
  {
   "cell_type": "markdown",
   "metadata": {},
   "source": [
    "<strong> Challenge -  Minimalizacja utraconej mocy</strong>"
   ]
  },
  {
   "cell_type": "markdown",
   "metadata": {},
   "source": [
    "Celem zadania było wyznaczenie wartości rezystancji poszczególnych rezystorów przy znanych wartościach napięciach i znanym zakresie prądu płynącego przez te rezystory. "
   ]
  },
  {
   "cell_type": "code",
   "execution_count": 8,
   "metadata": {},
   "outputs": [
    {
     "name": "stdout",
     "output_type": "stream",
     "text": [
      "Status: Optimal\n",
      "I1 = 3.0 mA\n",
      "I2 = 1.0 mA\n",
      "I3 = 2.0 mA\n",
      "I4 = 1.0 mA\n",
      "I5 = 3.0 mA\n",
      "R1= 2.0 kOhm\n",
      "R2= 10.0 kOhm\n",
      "R3= 2.0 kOhm\n",
      "R4= 7.0 kOhm\n",
      "R5= 1.0 kOhm\n"
     ]
    }
   ],
   "source": [
    "from pulp import *\n",
    "prob = LpProblem(\"Mostek_rezystorowy_minimalizacja_mocy\",LpMinimize)\n",
    "\n",
    "# Zmienne określające wartość prądu płynących przez poszczególne rezystory.\n",
    "I1 = LpVariable(\"I1\",0)\n",
    "I2 = LpVariable(\"I2\",0)\n",
    "I3 = LpVariable(\"I3\",0)\n",
    "I4 = LpVariable(\"I4\",0)\n",
    "I5 = LpVariable(\"I5\",0)\n",
    "\n",
    "# Warunek określajacy mnimalną moc\n",
    "prob += 6*I1 + 10*I2 + 4*I3 + 7*I4 + 3*I5, \"P_min\"\n",
    "\n",
    "# ograniczenie prądu na rezystorze 1\n",
    "prob += I1 >= 3, \"I1_min\"\n",
    "prob += I1 <= 5, \"I1_max\"\n",
    "# ograniczenie prądu na rezystorze 2\n",
    "prob += I2 >= 1, \"I2_min\"\n",
    "prob += I2 <= 3, \"I2_max\"\n",
    "# ograniczenie prądu na rezystorze 3\n",
    "prob += I3 >= 1, \"I3_min\"\n",
    "prob += I3 <= 3, \"I3_max\"\n",
    "# ograniczenie prądu na rezystorze 4\n",
    "prob += I4 >= 1, \"I4_min\"\n",
    "prob += I4 <= 3, \"I4_max\"\n",
    "# ograniczenie prądu na rezystorze 5\n",
    "prob += I5 >= 3, \"I5_min\"\n",
    "prob += I5 <= 5, \"I5_max\"\n",
    "\n",
    "# Ograniczenie prądu wynikające z charakteru jego rozchodzenia się w obwodzie.\n",
    "prob += I2 + I3 == I5, \"war_sum 1\"\n",
    "prob += I1 + I2 == I4 + I5, \"war_sum 2\"\n",
    "\n",
    "prob.writeLP(\"MostekModel.lp\")\n",
    "\n",
    "prob.solve()\n",
    "\n",
    "print (\"Status:\", LpStatus[prob.status])\n",
    "\n",
    "for v in prob.variables():\n",
    "    print (v.name, \"=\", v.varValue, \"mA\")\n",
    "\n",
    "print(\"R1=\", 6/I1.varValue,\"kOhm\")\n",
    "print(\"R2=\", 10/I2.varValue,\"kOhm\")\n",
    "print(\"R3=\", 4/I3.varValue,\"kOhm\")\n",
    "print(\"R4=\", 7/I4.varValue,\"kOhm\")\n",
    "print(\"R5=\", 3/I5.varValue,\"kOhm\")"
   ]
  },
  {
   "cell_type": "markdown",
   "metadata": {},
   "source": [
    "<strong> Challenge -  Maksymalny prąd płynący przez układ</strong>"
   ]
  },
  {
   "cell_type": "markdown",
   "metadata": {},
   "source": [
    "Celem zadania było wyznaczenie maksymalnej wartości prądu jaki może płynąc przez obwód przy znanej wartości rezystancji poszczególnych rezystorów oraz znanej maksymalnej wartości prądu jaki może płynąc przez każdy z rezystorów."
   ]
  },
  {
   "cell_type": "code",
   "execution_count": 116,
   "metadata": {},
   "outputs": [
    {
     "name": "stdout",
     "output_type": "stream",
     "text": [
      "Status: Optimal\n",
      "I1 = 1.54286 A\n",
      "I2 = 2.05714 A\n",
      "I3 = 3.6 A\n",
      "I4 = 1.6 A\n",
      "I5 = 2.0 A\n",
      "Maksymalny prąd jaki może płynąć przez układ =  3.6 A\n"
     ]
    }
   ],
   "source": [
    "from pulp import *\n",
    "prob = LpProblem(\"Problem_rezystory\",LpMaximize)\n",
    "\n",
    "# Zmienne określające wartość prądu płynących przez poszczególne rezystory.\n",
    "I1 = LpVariable(\"I1\",0)\n",
    "I2 = LpVariable(\"I2\",0)\n",
    "I3 = LpVariable(\"I3\",0)\n",
    "I4 = LpVariable(\"I4\",0)\n",
    "I5 = LpVariable(\"I5\",0)\n",
    "\n",
    "# Warunek określajacy maksymalny prąd płynący przez układ\n",
    "prob += I3, \"Max_I_Ukladu\"\n",
    "\n",
    "# ograniczenie prądu na rezystorze 1\n",
    "prob += I1 <= 2, \"I1_max\"\n",
    "# ograniczenie prądu na rezystorze 2\n",
    "prob += I2 <= 3, \"I2_max\"\n",
    "# ograniczenie prądu na rezystorze 3\n",
    "prob += I3 <= 4, \"I3_max\"\n",
    "# ograniczenie prądu na rezystorze 4\n",
    "prob += I4 <= 2, \"I4_max\"\n",
    "# ograniczenie prądu na rezystorze 5\n",
    "prob += I5 <= 2, \"I5_max\"\n",
    "\n",
    "# Ograniczenie prądu wynikające z charakteru jego rozchodzenia się w obwodzie.\n",
    "prob += I1 + I2 == I3, \"I31\"\n",
    "prob += I5 + I4 == I3, \"I32\"\n",
    "\n",
    "# Warunki napięciowe na oczkach obwodu.\n",
    "prob += I1*8 == I2*6, \"Napiecie Pierwsze Oczko\"\n",
    "prob += I5*8 == I4*10, \"Napiecie Drugie Oczko\"\n",
    "\n",
    "prob.writeLP(\"UkladModel.lp\")\n",
    "prob.solve()\n",
    "print (\"Status:\", LpStatus[prob.status])\n",
    "\n",
    "for v in prob.variables():\n",
    "    print (v.name, \"=\", v.varValue, \"A\")\n",
    "\n",
    "print(\"Maksymalny prąd jaki może płynąć przez układ = \", value(prob.objective), \"A\")"
   ]
  },
  {
   "cell_type": "markdown",
   "metadata": {},
   "source": [
    "<strong> Challenge -  Scheduling Problem (\"Grafik\") </strong>"
   ]
  },
  {
   "cell_type": "markdown",
   "metadata": {},
   "source": [
    "Celem zadania było ułożenie grafiku pracy tak by zminimalizować koszty zatrudnienia. Podczas układania grafiku należało uwzględnić takie aspekty jak to że każdy pracownik może w ciągu tygodnia przepracować maksymalnie 3 dni oraz to że pracownicy nie są dyspozycyjni przez cały tydzień."
   ]
  },
  {
   "cell_type": "code",
   "execution_count": 124,
   "metadata": {},
   "outputs": [
    {
     "name": "stdout",
     "output_type": "stream",
     "text": [
      "Ania_piatek = 1\n",
      "Hektor_poniedzialek = 1\n",
      "Hektor_sroda = 1\n",
      "Lidia_piatek = 1\n",
      "Olaf_czwartek = 1\n",
      "Olaf_piatek = 1\n",
      "Olaf_wtorek = 1\n",
      "Stefan_poniedzialek = 1\n",
      "Koszty poniesione przez pracodawcę:  4000  zł\n"
     ]
    }
   ],
   "source": [
    "from pulp import *\n",
    "prob = pulp.LpProblem(\"jakie_dni\", LpMinimize)\n",
    "\n",
    "# Stawki poszczególnych pracowników\n",
    "Ania_koszt = 100\n",
    "Stefan_koszt = 50\n",
    "Hektor_koszt = 60\n",
    "Olaf_koszt = 40\n",
    "Lidia_koszt = 110\n",
    "Piotr_koszt = 70\n",
    "\n",
    "# Dni w których pracownicy są dyspozycyjni i mogą przyjść do pracy\n",
    "Ania_pon=pulp.LpVariable(\"Ania_poniedzialek\",0,1, LpInteger)\n",
    "Ania_wt=pulp.LpVariable(\"Ania_wtorek\",0,1, LpInteger)\n",
    "Ania_sr=pulp.LpVariable(\"Ania_sroda\",0,1, LpInteger)\n",
    "Ania_czw=pulp.LpVariable(\"Ania_czwartek\",0,1, LpInteger)\n",
    "Ania_pt=pulp.LpVariable(\"Ania_piatek\",0,1, LpInteger)\n",
    "Stefan_pon=pulp.LpVariable(\"Stefan_poniedzialek\",0,1, LpInteger)\n",
    "Hektor_pon=pulp.LpVariable(\"Hektor_poniedzialek\",0,1, LpInteger)\n",
    "Hektor_wt=pulp.LpVariable(\"Hektor_wtorek\",0,1, LpInteger)\n",
    "Hektor_sr=pulp.LpVariable(\"Hektor_sroda\",0,1, LpInteger)\n",
    "Olaf_pon=pulp.LpVariable(\"Olaf_poniedzialek\",0,1, LpInteger)\n",
    "Olaf_wt=pulp.LpVariable(\"Olaf_wtorek\",0,1, LpInteger)\n",
    "Olaf_sr=pulp.LpVariable(\"Olaf_sroda\",0,1, LpInteger)\n",
    "Olaf_czw=pulp.LpVariable(\"Olaf_czwartek\",0,1, LpInteger)\n",
    "Olaf_pt=pulp.LpVariable(\"Olaf_piatek\",0,1, LpInteger)\n",
    "Lidia_czw=pulp.LpVariable(\"Lidia_czwartek\",0,1, LpInteger)\n",
    "Lidia_pt=pulp.LpVariable(\"Lidia_piatek\",0,1, LpInteger)\n",
    "Piotr_pon=pulp.LpVariable(\"Piotr_poniedzialek\",0,1, LpInteger)\n",
    "Piotr_wt=pulp.LpVariable(\"Piotr_wtorek\",0,1, LpInteger)\n",
    "Piotr_sr=pulp.LpVariable(\"Piotr_sroda\",0,1, LpInteger)\n",
    "\n",
    "# Warunek określajacy mnimalny koszt zatrdunienia \n",
    "prob += (Ania_koszt*(Ania_pon+Ania_wt+Ania_sr+Ania_czw+Ania_pt)+Stefan_koszt*(Stefan_pon)+Hektor_koszt*(Hektor_pon+Hektor_wt+Hektor_sr)+Olaf_koszt*(Olaf_pon+Olaf_wt+Olaf_sr+Olaf_czw+Olaf_pt)+Lidia_koszt*(Lidia_czw+Lidia_pt)+Piotr_koszt*(Piotr_pon+Piotr_wt+Piotr_sr))\n",
    "\n",
    "# Warunek określajacy ilość potrzbnych pracowników w poniedziałek\n",
    "prob += Ania_pon+Stefan_pon+Hektor_pon+Olaf_pon+Piotr_pon == 2\n",
    "# Warunek określający ilość potrzebnych pracowników we wtorek\n",
    "prob += Ania_wt+Ania_wt+Olaf_wt+Piotr_wt == 1\n",
    "# Warunek określajacy ilość potrzbnych pracowników w środę\n",
    "prob += Ania_sr+Hektor_sr+Olaf_sr+Piotr_sr == 1\n",
    "# Warunek określajacy ilość potrzbnych pracowników w czwartek\n",
    "prob += Ania_czw+Olaf_czw+Lidia_czw == 1\n",
    "# Warunek określajacy ilość potrzbnych pracowników w piatek\n",
    "prob += Ania_pt+Olaf_pt+Lidia_pt == 3\n",
    "\n",
    "# Ograniczenie możliwości pracy jednego pracownika przez maksymalnie 3 dni w tygodniu\n",
    "prob += Ania_pon+Ania_wt+Ania_sr+Ania_czw+Ania_pt <=3\n",
    "prob += Stefan_pon <= 3\n",
    "prob += Hektor_pon+Hektor_wt+Hektor_sr <= 3\n",
    "prob += Olaf_pon+Olaf_wt+Olaf_sr+Olaf_czw+Olaf_pt <= 3\n",
    "prob += Lidia_czw+Lidia_pt <= 3\n",
    "prob += Piotr_pon+Piotr_wt+Piotr_sr <= 3\n",
    "\n",
    "prob.solve()\n",
    "for variable in prob.variables():\n",
    "    if(variable.varValue == 1):\n",
    "        print (variable.name, \"=\", variable.varValue)\n",
    "\n",
    "koszt = Ania_koszt*(Ania_pon.value()+Ania_wt.value()+Ania_sr.value()+Ania_czw.value()+Ania_pt.value())+Hektor_koszt*(Hektor_pon.value()+Hektor_wt.value()+Hektor_sr.value())+Lidia_koszt*(Lidia_czw.value()+Lidia_pt.value())+Olaf_koszt*(Olaf_pon.value()+Olaf_wt.value()+Olaf_sr.value()+Olaf_czw.value()+Olaf_pt.value())+Piotr_koszt*(Piotr_pon.value()+Piotr_wt.value()+Piotr_sr.value())+Stefan_koszt*Stefan_pon.value()\n",
    "print(\"Koszty poniesione przez pracodawcę: \",koszt* 8,\" zł\")"
   ]
  },
  {
   "cell_type": "code",
   "execution_count": null,
   "metadata": {},
   "outputs": [],
   "source": []
  }
 ],
 "metadata": {
  "kernelspec": {
   "display_name": "Python 3",
   "language": "python",
   "name": "python3"
  },
  "language_info": {
   "codemirror_mode": {
    "name": "ipython",
    "version": 3
   },
   "file_extension": ".py",
   "mimetype": "text/x-python",
   "name": "python",
   "nbconvert_exporter": "python",
   "pygments_lexer": "ipython3",
   "version": "3.8.3"
  }
 },
 "nbformat": 4,
 "nbformat_minor": 4
}
